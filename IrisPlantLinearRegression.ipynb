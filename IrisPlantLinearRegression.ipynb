{
  "nbformat": 4,
  "nbformat_minor": 0,
  "metadata": {
    "colab": {
      "name": "IrisPlantLinearRegresion.ipynb",
      "provenance": [],
      "collapsed_sections": []
    },
    "kernelspec": {
      "name": "python3",
      "display_name": "Python 3"
    },
    "language_info": {
      "name": "python"
    }
  },
  "cells": [
    {
      "cell_type": "code",
      "execution_count": 1,
      "metadata": {
        "id": "nZL0bb03xnuy"
      },
      "outputs": [],
      "source": [
        "import numpy as np;\n",
        "import pandas as pd;\n",
        "import matplotlib.pyplot as plt;\n",
        "from sklearn.linear_model import LinearRegression\n",
        "from scipy.stats import pearsonr"
      ]
    },
    {
      "cell_type": "code",
      "source": [
        "df = pd.read_csv(\"iris-data.csv\")"
      ],
      "metadata": {
        "id": "-JXNq-qTyWrG"
      },
      "execution_count": 2,
      "outputs": []
    },
    {
      "cell_type": "code",
      "source": [
        "regressor = LinearRegression() "
      ],
      "metadata": {
        "id": "gDe6acoQzQyA"
      },
      "execution_count": 4,
      "outputs": []
    },
    {
      "cell_type": "markdown",
      "source": [
        "# First Graphic - Sepal Length (x) - Petal Width (y) "
      ],
      "metadata": {
        "id": "eesGu4gSyn_l"
      }
    },
    {
      "cell_type": "code",
      "source": [
        "plt.scatter(df[\"Sepal Length\"], df[\"Petal Width\"])\n",
        "plt.xlabel(\"Sepal Length\")\n",
        "plt.ylabel(\"Petal Width\")\n",
        "plt.show()"
      ],
      "metadata": {
        "colab": {
          "base_uri": "https://localhost:8080/",
          "height": 279
        },
        "id": "s-QSZMgRy4wf",
        "outputId": "7c69330e-d5b0-4415-9ee5-9ba7891d60dc"
      },
      "execution_count": 3,
      "outputs": [
        {
          "output_type": "display_data",
          "data": {
            "text/plain": [
              "<Figure size 432x288 with 1 Axes>"
            ],
            "image/png": "[encoded data removed]"
          },
          "metadata": {
            "needs_background": "light"
          }
        }
      ]
    },
    {
      "cell_type": "code",
      "source": [
        "# Data transformation\n",
        "x = df[\"Sepal Length\"].values.reshape(-1,1) \n",
        "y = df[\"Petal Width\"].values.reshape(-1,1) \n",
        "\n",
        "# Fit data\n",
        "regressor.fit(x,y)"
      ],
      "metadata": {
        "colab": {
          "base_uri": "https://localhost:8080/"
        },
        "id": "Rhe3rkOhzVxU",
        "outputId": "2ee99ede-be56-48c5-d23a-d5ddac5a92ab"
      },
      "execution_count": 6,
      "outputs": [
        {
          "output_type": "execute_result",
          "data": {
            "text/plain": [
              "LinearRegression()"
            ]
          },
          "metadata": {},
          "execution_count": 6
        }
      ]
    },
    {
      "cell_type": "code",
      "source": [
        "plt.scatter(df[\"Sepal Length\"], df[\"Petal Width\"], color=\"black\")\n",
        "plt.plot(x, regressor.predict(x), color=\"blue\", linewidth=4)\n",
        "plt.xlabel(\"Sepal Length\")\n",
        "plt.ylabel(\"Petal Width\")\n",
        "plt.show()"
      ],
      "metadata": {
        "colab": {
          "base_uri": "https://localhost:8080/",
          "height": 279
        },
        "id": "WtimJydqzqBn",
        "outputId": "61438cc3-8739-4638-ae2a-673ed8275341"
      },
      "execution_count": 7,
      "outputs": [
        {
          "output_type": "display_data",
          "data": {
            "text/plain": [
              "<Figure size 432x288 with 1 Axes>"
            ],
            "image/png": "[encoded data removed]"
          },
          "metadata": {
            "needs_background": "light"
          }
        }
      ]
    },
    {
      "cell_type": "code",
      "source": [
        "regressor.intercept_ # Interception with the axis y"
      ],
      "metadata": {
        "colab": {
          "base_uri": "https://localhost:8080/"
        },
        "id": "NntTZ8mKz8ew",
        "outputId": "3ee1cc1c-3f0f-415d-a786-7c0a14a5c3e2"
      },
      "execution_count": 8,
      "outputs": [
        {
          "output_type": "execute_result",
          "data": {
            "text/plain": [
              "array([-3.2062769])"
            ]
          },
          "metadata": {},
          "execution_count": 8
        }
      ]
    },
    {
      "cell_type": "code",
      "source": [
        "regressor.coef_ # Relationship coefficient"
      ],
      "metadata": {
        "colab": {
          "base_uri": "https://localhost:8080/"
        },
        "id": "aRzrfqpG0Qkz",
        "outputId": "79384326-ffec-42c5-d8d7-96c6dd515e48"
      },
      "execution_count": 9,
      "outputs": [
        {
          "output_type": "execute_result",
          "data": {
            "text/plain": [
              "array([[0.75384088]])"
            ]
          },
          "metadata": {},
          "execution_count": 9
        }
      ]
    },
    {
      "cell_type": "code",
      "source": [
        "regressor.score(x, y) # Coefficient of determination of the prediction"
      ],
      "metadata": {
        "colab": {
          "base_uri": "https://localhost:8080/"
        },
        "id": "Ssz18pGL0gZq",
        "outputId": "ed41cce2-fdc4-4b80-9bc9-07cb695f0d7d"
      },
      "execution_count": 10,
      "outputs": [
        {
          "output_type": "execute_result",
          "data": {
            "text/plain": [
              "0.6690481463418159"
            ]
          },
          "metadata": {},
          "execution_count": 10
        }
      ]
    },
    {
      "cell_type": "code",
      "source": [
        "corr, _=pearsonr(df[\"Sepal Length\"], df[\"Petal Width\"])\n",
        "corr"
      ],
      "metadata": {
        "colab": {
          "base_uri": "https://localhost:8080/"
        },
        "id": "OX-rM79R1mVk",
        "outputId": "e16c8ce1-06dd-4f00-85f5-aaf7d2b6c566"
      },
      "execution_count": 12,
      "outputs": [
        {
          "output_type": "execute_result",
          "data": {
            "text/plain": [
              "0.8179536333691635"
            ]
          },
          "metadata": {},
          "execution_count": 12
        }
      ]
    },
    {
      "cell_type": "markdown",
      "source": [
        "# Second Graphic - Petal Length (y) - Sepal Width (x) "
      ],
      "metadata": {
        "id": "VhPt5zWN1yPj"
      }
    },
    {
      "cell_type": "code",
      "source": [
        "plt.scatter(df[\"Sepal Width\"], df[\"Petal Width\"])\n",
        "plt.xlabel(\"Sepal Width\")\n",
        "plt.ylabel(\"Petal Width\")\n",
        "plt.show()"
      ],
      "metadata": {
        "colab": {
          "base_uri": "https://localhost:8080/",
          "height": 279
        },
        "id": "riSrrsaI13X8",
        "outputId": "b95ef84f-990c-4a8c-b2a2-d89c30453250"
      },
      "execution_count": 42,
      "outputs": [
        {
          "output_type": "display_data",
          "data": {
            "text/plain": [
              "<Figure size 432x288 with 1 Axes>"
            ],
            "image/png": "[encoded data removed]"
          },
          "metadata": {
            "needs_background": "light"
          }
        }
      ]
    },
    {
      "cell_type": "code",
      "source": [
        "# Data transformation\n",
        "x = df[\"Sepal Width\"].values.reshape(-1,1) \n",
        "y = df[\"Petal Width\"].values.reshape(-1,1) \n",
        "\n",
        "# Fit data\n",
        "regressor.fit(x,y)"
      ],
      "metadata": {
        "colab": {
          "base_uri": "https://localhost:8080/"
        },
        "id": "0WFskaQi18V7",
        "outputId": "95b6ab13-bfee-474e-ae46-436b07fe52b6"
      },
      "execution_count": 43,
      "outputs": [
        {
          "output_type": "execute_result",
          "data": {
            "text/plain": [
              "LinearRegression()"
            ]
          },
          "metadata": {},
          "execution_count": 43
        }
      ]
    },
    {
      "cell_type": "code",
      "source": [
        "plt.scatter(df[\"Sepal Width\"], df[\"Petal Width\"], color=\"black\")\n",
        "plt.plot(x, regressor.predict(x), color=\"blue\", linewidth=4)\n",
        "plt.xlabel(\"Sepal Width\")\n",
        "plt.ylabel(\"Petal Width\")\n",
        "plt.show()"
      ],
      "metadata": {
        "colab": {
          "base_uri": "https://localhost:8080/",
          "height": 279
        },
        "id": "lzx1lE8J2AQ7",
        "outputId": "e82127c9-ef5d-439a-ab07-52d4a1417e66"
      },
      "execution_count": 44,
      "outputs": [
        {
          "output_type": "display_data",
          "data": {
            "text/plain": [
              "<Figure size 432x288 with 1 Axes>"
            ],
            "image/png": "[encoded data removed]"
          },
          "metadata": {
            "needs_background": "light"
          }
        }
      ]
    },
    {
      "cell_type": "code",
      "source": [
        "regressor.intercept_ # Interception with the axis y"
      ],
      "metadata": {
        "colab": {
          "base_uri": "https://localhost:8080/"
        },
        "id": "u6w50HJE2C-d",
        "outputId": "a3ceb481-7322-49c6-f6a4-75dd2bd61e36"
      },
      "execution_count": 45,
      "outputs": [
        {
          "output_type": "execute_result",
          "data": {
            "text/plain": [
              "array([3.11519269])"
            ]
          },
          "metadata": {},
          "execution_count": 45
        }
      ]
    },
    {
      "cell_type": "code",
      "source": [
        "regressor.coef_ # Relationship coefficient"
      ],
      "metadata": {
        "colab": {
          "base_uri": "https://localhost:8080/"
        },
        "id": "KTv2q6vK2Eum",
        "outputId": "27e44836-1887-4c93-bf51-93ec2e0d491c"
      },
      "execution_count": 46,
      "outputs": [
        {
          "output_type": "execute_result",
          "data": {
            "text/plain": [
              "array([[-0.62754618]])"
            ]
          },
          "metadata": {},
          "execution_count": 46
        }
      ]
    },
    {
      "cell_type": "code",
      "source": [
        "regressor.score(x, y) # Coefficient of determination of the prediction"
      ],
      "metadata": {
        "colab": {
          "base_uri": "https://localhost:8080/"
        },
        "id": "NHalpuwV2Ggc",
        "outputId": "9844aba5-e80b-42d0-d0f7-54f02e644562"
      },
      "execution_count": 47,
      "outputs": [
        {
          "output_type": "execute_result",
          "data": {
            "text/plain": [
              "0.12712368783853756"
            ]
          },
          "metadata": {},
          "execution_count": 47
        }
      ]
    },
    {
      "cell_type": "code",
      "source": [
        "corr, _=pearsonr(df[\"Sepal Width\"], df[\"Petal Width\"])\n",
        "corr"
      ],
      "metadata": {
        "colab": {
          "base_uri": "https://localhost:8080/"
        },
        "id": "RDQ4_U562Jgl",
        "outputId": "19fdd714-94a8-451c-b424-2b983c8f3bff"
      },
      "execution_count": 48,
      "outputs": [
        {
          "output_type": "execute_result",
          "data": {
            "text/plain": [
              "-0.3565440896138058"
            ]
          },
          "metadata": {},
          "execution_count": 48
        }
      ]
    },
    {
      "cell_type": "markdown",
      "source": [
        "# Third Graphic - Sepal Length (x) - Petal Length (y) "
      ],
      "metadata": {
        "id": "1WvSYOQ52_t0"
      }
    },
    {
      "cell_type": "code",
      "source": [
        "plt.scatter(df[\"Petal Length\"], df[\"Petal Width\"])\n",
        "plt.xlabel(\"Petal Length\")\n",
        "plt.ylabel(\"Petal Width\")\n",
        "plt.show()"
      ],
      "metadata": {
        "colab": {
          "base_uri": "https://localhost:8080/",
          "height": 279
        },
        "id": "NHy0d_jS3Hp9",
        "outputId": "aadc71f2-34f8-4f5f-c037-36724939e903"
      },
      "execution_count": 49,
      "outputs": [
        {
          "output_type": "display_data",
          "data": {
            "text/plain": [
              "<Figure size 432x288 with 1 Axes>"
            ],
            "image/png": "[encoded data removed]"
          },
          "metadata": {
            "needs_background": "light"
          }
        }
      ]
    },
    {
      "cell_type": "code",
      "source": [
        "# Data transformation\n",
        "x = df[\"Petal Length\"].values.reshape(-1,1) \n",
        "y = df[\"Petal Width\"].values.reshape(-1,1) \n",
        "\n",
        "# Fit data\n",
        "regressor.fit(x,y)"
      ],
      "metadata": {
        "colab": {
          "base_uri": "https://localhost:8080/"
        },
        "id": "x5ak8WaN3KfK",
        "outputId": "b3f8acd5-c0f9-4dee-dddb-92fd6cedc2dc"
      },
      "execution_count": 50,
      "outputs": [
        {
          "output_type": "execute_result",
          "data": {
            "text/plain": [
              "LinearRegression()"
            ]
          },
          "metadata": {},
          "execution_count": 50
        }
      ]
    },
    {
      "cell_type": "code",
      "source": [
        "plt.scatter(df[\"Petal Length\"], df[\"Petal Width\"], color=\"black\")\n",
        "plt.plot(x, regressor.predict(x), color=\"blue\", linewidth=4)\n",
        "plt.xlabel(\"Petal Length\")\n",
        "plt.ylabel(\"Petal Width\")\n",
        "plt.show()"
      ],
      "metadata": {
        "colab": {
          "base_uri": "https://localhost:8080/",
          "height": 279
        },
        "id": "6Khz1V8m3ORX",
        "outputId": "51ccafd1-1299-44a0-f4e8-461cae56b3dc"
      },
      "execution_count": 54,
      "outputs": [
        {
          "output_type": "display_data",
          "data": {
            "text/plain": [
              "<Figure size 432x288 with 1 Axes>"
            ],
            "image/png": "[encoded data removed]"
          },
          "metadata": {
            "needs_background": "light"
          }
        }
      ]
    },
    {
      "cell_type": "code",
      "source": [
        "regressor.intercept_ # Interception with the axis y"
      ],
      "metadata": {
        "colab": {
          "base_uri": "https://localhost:8080/"
        },
        "id": "8kW8-3aW3RaR",
        "outputId": "1fba2bd2-4ee7-4745-ea2e-80988f74f1f9"
      },
      "execution_count": 55,
      "outputs": [
        {
          "output_type": "execute_result",
          "data": {
            "text/plain": [
              "array([-0.36651405])"
            ]
          },
          "metadata": {},
          "execution_count": 55
        }
      ]
    },
    {
      "cell_type": "code",
      "source": [
        "regressor.coef_ # Relationship coefficient"
      ],
      "metadata": {
        "colab": {
          "base_uri": "https://localhost:8080/"
        },
        "id": "KUbSj5fP3TbC",
        "outputId": "742c3f62-faca-4eab-842c-2c073d1d0105"
      },
      "execution_count": 56,
      "outputs": [
        {
          "output_type": "execute_result",
          "data": {
            "text/plain": [
              "array([[0.41641913]])"
            ]
          },
          "metadata": {},
          "execution_count": 56
        }
      ]
    },
    {
      "cell_type": "code",
      "source": [
        "regressor.score(x, y) # Coefficient of determination of the prediction"
      ],
      "metadata": {
        "colab": {
          "base_uri": "https://localhost:8080/"
        },
        "id": "amehTr4Y3VtZ",
        "outputId": "4bd0e24f-5879-4098-cf4c-536b652dc6b4"
      },
      "execution_count": 57,
      "outputs": [
        {
          "output_type": "execute_result",
          "data": {
            "text/plain": [
              "0.9269012279220037"
            ]
          },
          "metadata": {},
          "execution_count": 57
        }
      ]
    },
    {
      "cell_type": "code",
      "source": [
        "corr, _=pearsonr(df[\"Petal Length\"], df[\"Petal Width\"])\n",
        "corr"
      ],
      "metadata": {
        "colab": {
          "base_uri": "https://localhost:8080/"
        },
        "id": "k2w9lleT3XZP",
        "outputId": "1fb6a2af-6b19-4eff-b8dd-cde9dd0ab07b"
      },
      "execution_count": 58,
      "outputs": [
        {
          "output_type": "execute_result",
          "data": {
            "text/plain": [
              "0.9627570970509661"
            ]
          },
          "metadata": {},
          "execution_count": 58
        }
      ]
    }
  ]
}